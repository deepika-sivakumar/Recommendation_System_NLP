{
  "nbformat": 4,
  "nbformat_minor": 0,
  "metadata": {
    "colab": {
      "name": "api_json_pd.ipynb",
      "version": "0.3.2",
      "provenance": [],
      "collapsed_sections": []
    },
    "kernelspec": {
      "name": "python3",
      "display_name": "Python 3"
    }
  },
  "cells": [
    {
      "cell_type": "markdown",
      "metadata": {
        "id": "_i1mt1gaGk5-",
        "colab_type": "text"
      },
      "source": [
        "# To get JSON response from an API & create a Pandas Dataframe with it"
      ]
    },
    {
      "cell_type": "code",
      "metadata": {
        "id": "B2r_9GeKF_bB",
        "colab_type": "code",
        "colab": {}
      },
      "source": [
        "import requests\n",
        "import json\n",
        "import pandas as pd"
      ],
      "execution_count": 0,
      "outputs": []
    },
    {
      "cell_type": "code",
      "metadata": {
        "id": "HaHGTC2FGErP",
        "colab_type": "code",
        "colab": {}
      },
      "source": [
        "url = \"http://tour-pedia.org/api/getReviewsByPlaceId?placeId=35537\""
      ],
      "execution_count": 0,
      "outputs": []
    },
    {
      "cell_type": "code",
      "metadata": {
        "id": "WOhA1ZVjGrTT",
        "colab_type": "code",
        "outputId": "5e8e1c19-a222-4610-9649-2a17ee360344",
        "colab": {
          "base_uri": "https://localhost:8080/",
          "height": 34
        }
      },
      "source": [
        "response = requests.get(url)\n",
        "print('Status code:', response.status_code)"
      ],
      "execution_count": 24,
      "outputs": [
        {
          "output_type": "stream",
          "text": [
            "Status code: 200\n"
          ],
          "name": "stdout"
        }
      ]
    },
    {
      "cell_type": "code",
      "metadata": {
        "id": "gnWTeez_Gyv3",
        "colab_type": "code",
        "colab": {}
      },
      "source": [
        "data = response.text\n",
        "json_data = json.loads(data)"
      ],
      "execution_count": 0,
      "outputs": []
    },
    {
      "cell_type": "code",
      "metadata": {
        "id": "n0GOFcoBG-SB",
        "colab_type": "code",
        "outputId": "c1870d11-d9be-4a5a-9118-b4977b56a26d",
        "colab": {
          "base_uri": "https://localhost:8080/",
          "height": 1000
        }
      },
      "source": [
        "json_data"
      ],
      "execution_count": 11,
      "outputs": [
        {
          "output_type": "execute_result",
          "data": {
            "text/plain": [
              "[{'details': 'http://tour-pedia.org/api/getReviewDetails?id=52a73a8bae9eef5a50645caa',\n",
              "  'language': 'en',\n",
              "  'polarity': 5,\n",
              "  'rating': 0,\n",
              "  'source': 'Foursquare',\n",
              "  'text': 'Did u know the author of The Windows in the Willows was a Secretary of The Bank of England?',\n",
              "  'time': '2011-05-11',\n",
              "  'wordsCount': 19},\n",
              " {'details': 'http://tour-pedia.org/api/getReviewDetails?id=52a73a8bae9eef5a50645cab',\n",
              "  'language': 'en',\n",
              "  'polarity': 0,\n",
              "  'rating': 0,\n",
              "  'source': 'Foursquare',\n",
              "  'text': 'Not worth going unless you want to see old currency. Sadly deficient on the policy work the Bank does and what they do have is hopelessly slanted.',\n",
              "  'time': '2012-01-06',\n",
              "  'wordsCount': 27},\n",
              " {'details': 'http://tour-pedia.org/api/getReviewDetails?id=52a73a8bae9eef5a50645cac',\n",
              "  'language': 'en',\n",
              "  'polarity': 5,\n",
              "  'rating': 0,\n",
              "  'source': 'Foursquare',\n",
              "  'text': 'Being closed at weekends and bank holidays does limit your visiting options.  Lots of old banknotes and the chance to touch a gold bar.',\n",
              "  'time': '2012-01-22',\n",
              "  'wordsCount': 24},\n",
              " {'details': 'http://tour-pedia.org/api/getReviewDetails?id=52a73a8bae9eef5a50645cad',\n",
              "  'language': 'en',\n",
              "  'polarity': 5,\n",
              "  'rating': 0,\n",
              "  'source': 'Foursquare',\n",
              "  'text': 'Housed inside the former Stock Offices of the Bank of England, this engaging and surprisingly lively museum explores the history of the national bank.',\n",
              "  'time': '2012-02-23',\n",
              "  'wordsCount': 24},\n",
              " {'details': 'http://tour-pedia.org/api/getReviewDetails?id=52a73a8bae9eef5a50645cae',\n",
              "  'language': 'en',\n",
              "  'polarity': 5,\n",
              "  'rating': 0,\n",
              "  'source': 'Foursquare',\n",
              "  'text': 'Tacked on to the end of the Bank of England, this museum is housed in a replica Sir John Soane interior, the largest of its kind in the world.',\n",
              "  'time': '2012-03-27',\n",
              "  'wordsCount': 29},\n",
              " {'details': 'http://tour-pedia.org/api/getReviewDetails?id=52a73a8bae9eef5a50645caf',\n",
              "  'language': 'en',\n",
              "  'polarity': 5,\n",
              "  'rating': 0,\n",
              "  'source': 'Foursquare',\n",
              "  'text': 'Really interesting and FREE: no free samples ;)',\n",
              "  'time': '2012-04-26',\n",
              "  'wordsCount': 7},\n",
              " {'details': 'http://tour-pedia.org/api/getReviewDetails?id=52a73a8bae9eef5a50645cb0',\n",
              "  'language': 'nl',\n",
              "  'polarity': 5,\n",
              "  'rating': 0,\n",
              "  'source': 'Foursquare',\n",
              "  'text': 'Can be seen in 30-60 mins',\n",
              "  'time': '2013-03-14',\n",
              "  'wordsCount': 6},\n",
              " {'details': 'http://tour-pedia.org/api/getReviewDetails?id=52a73a8bae9eef5a50645cb1',\n",
              "  'language': 'es',\n",
              "  'polarity': 5,\n",
              "  'rating': 0,\n",
              "  'source': 'Foursquare',\n",
              "  'text': 'El secreto de las monedas inglesas.',\n",
              "  'time': '2013-04-01',\n",
              "  'wordsCount': 6},\n",
              " {'details': 'http://tour-pedia.org/api/getReviewDetails?id=52a73a8bae9eef5a50645cb2',\n",
              "  'language': 'en',\n",
              "  'polarity': 10,\n",
              "  'rating': 0,\n",
              "  'source': 'Foursquare',\n",
              "  'text': 'Figure out the combination to the £50 safe for a free pin from the front desk.',\n",
              "  'time': '2013-07-02',\n",
              "  'wordsCount': 15},\n",
              " {'details': 'http://tour-pedia.org/api/getReviewDetails?id=52a73a8bae9eef5a50645cb3',\n",
              "  'language': 'en',\n",
              "  'polarity': 10,\n",
              "  'rating': 0,\n",
              "  'source': 'Foursquare',\n",
              "  'text': 'Go in an Open Day, the interior is beautiful. The museum is just OK.',\n",
              "  'time': '2013-07-13',\n",
              "  'wordsCount': 14},\n",
              " {'details': 'http://tour-pedia.org/api/getReviewDetails?id=52a73a8bae9eef5a50645cb4',\n",
              "  'language': 'ja',\n",
              "  'polarity': 0,\n",
              "  'rating': 0,\n",
              "  'source': 'Foursquare',\n",
              "  'text': 'BOE併設の博物館ですが、土日はお休みです…',\n",
              "  'time': '2013-09-18',\n",
              "  'wordsCount': 1},\n",
              " {'details': 'http://tour-pedia.org/api/getReviewDetails?id=52a73a8bae9eef5a50645cb5',\n",
              "  'language': 'en',\n",
              "  'polarity': 5,\n",
              "  'rating': 0,\n",
              "  'source': 'Foursquare',\n",
              "  'text': \"It's more interesting than you might think. And you get to lift a genuine bar of gold, worth hundreds of thousands of pounds.\",\n",
              "  'time': '2013-09-19',\n",
              "  'wordsCount': 23}]"
            ]
          },
          "metadata": {
            "tags": []
          },
          "execution_count": 11
        }
      ]
    },
    {
      "cell_type": "code",
      "metadata": {
        "id": "z3AGhI7LHeS4",
        "colab_type": "code",
        "colab": {
          "base_uri": "https://localhost:8080/",
          "height": 158
        },
        "outputId": "b1cb5126-9311-44fe-d76b-7d9736575382"
      },
      "source": [
        "# Print the first value\n",
        "json_data[0]"
      ],
      "execution_count": 17,
      "outputs": [
        {
          "output_type": "execute_result",
          "data": {
            "text/plain": [
              "{'details': 'http://tour-pedia.org/api/getReviewDetails?id=52a73a8bae9eef5a50645caa',\n",
              " 'language': 'en',\n",
              " 'polarity': 5,\n",
              " 'rating': 0,\n",
              " 'source': 'Foursquare',\n",
              " 'text': 'Did u know the author of The Windows in the Willows was a Secretary of The Bank of England?',\n",
              " 'time': '2011-05-11',\n",
              " 'wordsCount': 19}"
            ]
          },
          "metadata": {
            "tags": []
          },
          "execution_count": 17
        }
      ]
    },
    {
      "cell_type": "code",
      "metadata": {
        "id": "CI1Di1eLJoh0",
        "colab_type": "code",
        "colab": {
          "base_uri": "https://localhost:8080/",
          "height": 34
        },
        "outputId": "e2ef974b-5cb3-47ad-bea0-29cf1aec47ac"
      },
      "source": [
        "# Let us print the 'details' attribute\n",
        "json_data[0]['details']"
      ],
      "execution_count": 18,
      "outputs": [
        {
          "output_type": "execute_result",
          "data": {
            "text/plain": [
              "'http://tour-pedia.org/api/getReviewDetails?id=52a73a8bae9eef5a50645caa'"
            ]
          },
          "metadata": {
            "tags": []
          },
          "execution_count": 18
        }
      ]
    },
    {
      "cell_type": "code",
      "metadata": {
        "id": "F7BF_s3_HVvo",
        "colab_type": "code",
        "outputId": "182798d0-c2e0-47f2-d945-0526239417c5",
        "colab": {
          "base_uri": "https://localhost:8080/",
          "height": 402
        }
      },
      "source": [
        "#Let us print the data in a more readable form\n",
        "#print(json.dumps(parsed, indent=4))\n",
        "# Convert the json list to a pandas dataframe\n",
        "df = pd.DataFrame(json_data)\n",
        "df"
      ],
      "execution_count": 22,
      "outputs": [
        {
          "output_type": "execute_result",
          "data": {
            "text/html": [
              "<div>\n",
              "<style scoped>\n",
              "    .dataframe tbody tr th:only-of-type {\n",
              "        vertical-align: middle;\n",
              "    }\n",
              "\n",
              "    .dataframe tbody tr th {\n",
              "        vertical-align: top;\n",
              "    }\n",
              "\n",
              "    .dataframe thead th {\n",
              "        text-align: right;\n",
              "    }\n",
              "</style>\n",
              "<table border=\"1\" class=\"dataframe\">\n",
              "  <thead>\n",
              "    <tr style=\"text-align: right;\">\n",
              "      <th></th>\n",
              "      <th>details</th>\n",
              "      <th>language</th>\n",
              "      <th>polarity</th>\n",
              "      <th>rating</th>\n",
              "      <th>source</th>\n",
              "      <th>text</th>\n",
              "      <th>time</th>\n",
              "      <th>wordsCount</th>\n",
              "    </tr>\n",
              "  </thead>\n",
              "  <tbody>\n",
              "    <tr>\n",
              "      <th>0</th>\n",
              "      <td>http://tour-pedia.org/api/getReviewDetails?id=...</td>\n",
              "      <td>en</td>\n",
              "      <td>5</td>\n",
              "      <td>0</td>\n",
              "      <td>Foursquare</td>\n",
              "      <td>Did u know the author of The Windows in the Wi...</td>\n",
              "      <td>2011-05-11</td>\n",
              "      <td>19</td>\n",
              "    </tr>\n",
              "    <tr>\n",
              "      <th>1</th>\n",
              "      <td>http://tour-pedia.org/api/getReviewDetails?id=...</td>\n",
              "      <td>en</td>\n",
              "      <td>0</td>\n",
              "      <td>0</td>\n",
              "      <td>Foursquare</td>\n",
              "      <td>Not worth going unless you want to see old cur...</td>\n",
              "      <td>2012-01-06</td>\n",
              "      <td>27</td>\n",
              "    </tr>\n",
              "    <tr>\n",
              "      <th>2</th>\n",
              "      <td>http://tour-pedia.org/api/getReviewDetails?id=...</td>\n",
              "      <td>en</td>\n",
              "      <td>5</td>\n",
              "      <td>0</td>\n",
              "      <td>Foursquare</td>\n",
              "      <td>Being closed at weekends and bank holidays doe...</td>\n",
              "      <td>2012-01-22</td>\n",
              "      <td>24</td>\n",
              "    </tr>\n",
              "    <tr>\n",
              "      <th>3</th>\n",
              "      <td>http://tour-pedia.org/api/getReviewDetails?id=...</td>\n",
              "      <td>en</td>\n",
              "      <td>5</td>\n",
              "      <td>0</td>\n",
              "      <td>Foursquare</td>\n",
              "      <td>Housed inside the former Stock Offices of the ...</td>\n",
              "      <td>2012-02-23</td>\n",
              "      <td>24</td>\n",
              "    </tr>\n",
              "    <tr>\n",
              "      <th>4</th>\n",
              "      <td>http://tour-pedia.org/api/getReviewDetails?id=...</td>\n",
              "      <td>en</td>\n",
              "      <td>5</td>\n",
              "      <td>0</td>\n",
              "      <td>Foursquare</td>\n",
              "      <td>Tacked on to the end of the Bank of England, t...</td>\n",
              "      <td>2012-03-27</td>\n",
              "      <td>29</td>\n",
              "    </tr>\n",
              "    <tr>\n",
              "      <th>5</th>\n",
              "      <td>http://tour-pedia.org/api/getReviewDetails?id=...</td>\n",
              "      <td>en</td>\n",
              "      <td>5</td>\n",
              "      <td>0</td>\n",
              "      <td>Foursquare</td>\n",
              "      <td>Really interesting and FREE: no free samples ;)</td>\n",
              "      <td>2012-04-26</td>\n",
              "      <td>7</td>\n",
              "    </tr>\n",
              "    <tr>\n",
              "      <th>6</th>\n",
              "      <td>http://tour-pedia.org/api/getReviewDetails?id=...</td>\n",
              "      <td>nl</td>\n",
              "      <td>5</td>\n",
              "      <td>0</td>\n",
              "      <td>Foursquare</td>\n",
              "      <td>Can be seen in 30-60 mins</td>\n",
              "      <td>2013-03-14</td>\n",
              "      <td>6</td>\n",
              "    </tr>\n",
              "    <tr>\n",
              "      <th>7</th>\n",
              "      <td>http://tour-pedia.org/api/getReviewDetails?id=...</td>\n",
              "      <td>es</td>\n",
              "      <td>5</td>\n",
              "      <td>0</td>\n",
              "      <td>Foursquare</td>\n",
              "      <td>El secreto de las monedas inglesas.</td>\n",
              "      <td>2013-04-01</td>\n",
              "      <td>6</td>\n",
              "    </tr>\n",
              "    <tr>\n",
              "      <th>8</th>\n",
              "      <td>http://tour-pedia.org/api/getReviewDetails?id=...</td>\n",
              "      <td>en</td>\n",
              "      <td>10</td>\n",
              "      <td>0</td>\n",
              "      <td>Foursquare</td>\n",
              "      <td>Figure out the combination to the £50 safe for...</td>\n",
              "      <td>2013-07-02</td>\n",
              "      <td>15</td>\n",
              "    </tr>\n",
              "    <tr>\n",
              "      <th>9</th>\n",
              "      <td>http://tour-pedia.org/api/getReviewDetails?id=...</td>\n",
              "      <td>en</td>\n",
              "      <td>10</td>\n",
              "      <td>0</td>\n",
              "      <td>Foursquare</td>\n",
              "      <td>Go in an Open Day, the interior is beautiful. ...</td>\n",
              "      <td>2013-07-13</td>\n",
              "      <td>14</td>\n",
              "    </tr>\n",
              "    <tr>\n",
              "      <th>10</th>\n",
              "      <td>http://tour-pedia.org/api/getReviewDetails?id=...</td>\n",
              "      <td>ja</td>\n",
              "      <td>0</td>\n",
              "      <td>0</td>\n",
              "      <td>Foursquare</td>\n",
              "      <td>BOE併設の博物館ですが、土日はお休みです…</td>\n",
              "      <td>2013-09-18</td>\n",
              "      <td>1</td>\n",
              "    </tr>\n",
              "    <tr>\n",
              "      <th>11</th>\n",
              "      <td>http://tour-pedia.org/api/getReviewDetails?id=...</td>\n",
              "      <td>en</td>\n",
              "      <td>5</td>\n",
              "      <td>0</td>\n",
              "      <td>Foursquare</td>\n",
              "      <td>It's more interesting than you might think. An...</td>\n",
              "      <td>2013-09-19</td>\n",
              "      <td>23</td>\n",
              "    </tr>\n",
              "  </tbody>\n",
              "</table>\n",
              "</div>"
            ],
            "text/plain": [
              "                                              details  ... wordsCount\n",
              "0   http://tour-pedia.org/api/getReviewDetails?id=...  ...         19\n",
              "1   http://tour-pedia.org/api/getReviewDetails?id=...  ...         27\n",
              "2   http://tour-pedia.org/api/getReviewDetails?id=...  ...         24\n",
              "3   http://tour-pedia.org/api/getReviewDetails?id=...  ...         24\n",
              "4   http://tour-pedia.org/api/getReviewDetails?id=...  ...         29\n",
              "5   http://tour-pedia.org/api/getReviewDetails?id=...  ...          7\n",
              "6   http://tour-pedia.org/api/getReviewDetails?id=...  ...          6\n",
              "7   http://tour-pedia.org/api/getReviewDetails?id=...  ...          6\n",
              "8   http://tour-pedia.org/api/getReviewDetails?id=...  ...         15\n",
              "9   http://tour-pedia.org/api/getReviewDetails?id=...  ...         14\n",
              "10  http://tour-pedia.org/api/getReviewDetails?id=...  ...          1\n",
              "11  http://tour-pedia.org/api/getReviewDetails?id=...  ...         23\n",
              "\n",
              "[12 rows x 8 columns]"
            ]
          },
          "metadata": {
            "tags": []
          },
          "execution_count": 22
        }
      ]
    },
    {
      "cell_type": "markdown",
      "metadata": {
        "id": "lBj3ubZ4PrEx",
        "colab_type": "text"
      },
      "source": [
        "References:\n",
        "\n",
        "https://chrisalbon.com/machine_learning/model_evaluation/cross_validation_parameter_tuning_grid_search/"
      ]
    }
  ]
}