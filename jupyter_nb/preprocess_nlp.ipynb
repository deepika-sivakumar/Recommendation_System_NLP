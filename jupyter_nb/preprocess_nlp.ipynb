{
  "nbformat": 4,
  "nbformat_minor": 0,
  "metadata": {
    "colab": {
      "name": "preprocess_nlp.ipynb",
      "version": "0.3.2",
      "provenance": [],
      "collapsed_sections": []
    },
    "kernelspec": {
      "name": "python3",
      "display_name": "Python 3"
    }
  },
  "cells": [
    {
      "cell_type": "code",
      "metadata": {
        "id": "dBl4kz_uj972",
        "colab_type": "code",
        "colab": {}
      },
      "source": [
        "import nltk\n",
        "#nltk.download('punkt')\n",
        "#nltk.download('stopwords')\n",
        "#nltk.download('wordnet')"
      ],
      "execution_count": 0,
      "outputs": []
    },
    {
      "cell_type": "code",
      "metadata": {
        "id": "aOqFNraNesXK",
        "colab_type": "code",
        "colab": {}
      },
      "source": [
        "import pandas as pd\n",
        "from nltk.tokenize import word_tokenize\n",
        "from nltk.tokenize import RegexpTokenizer\n",
        "from nltk.corpus import stopwords\n",
        "from nltk.stem import WordNetLemmatizer"
      ],
      "execution_count": 0,
      "outputs": []
    },
    {
      "cell_type": "code",
      "metadata": {
        "id": "qz8KCYjCeTMh",
        "colab_type": "code",
        "colab": {}
      },
      "source": [
        "places_df = pd.read_csv('tourpedia_London_poi.csv')\n",
        "reviews_df = pd.read_csv('tourpedia_London_reviews.csv')"
      ],
      "execution_count": 0,
      "outputs": []
    },
    {
      "cell_type": "code",
      "metadata": {
        "id": "gSv0Kn1se4Jh",
        "colab_type": "code",
        "colab": {
          "base_uri": "https://localhost:8080/",
          "height": 195
        },
        "outputId": "1a3efb56-421f-425b-ae21-5e093dfa7da5"
      },
      "source": [
        "reviews_df.head()"
      ],
      "execution_count": 164,
      "outputs": [
        {
          "output_type": "execute_result",
          "data": {
            "text/html": [
              "<div>\n",
              "<style scoped>\n",
              "    .dataframe tbody tr th:only-of-type {\n",
              "        vertical-align: middle;\n",
              "    }\n",
              "\n",
              "    .dataframe tbody tr th {\n",
              "        vertical-align: top;\n",
              "    }\n",
              "\n",
              "    .dataframe thead th {\n",
              "        text-align: right;\n",
              "    }\n",
              "</style>\n",
              "<table border=\"1\" class=\"dataframe\">\n",
              "  <thead>\n",
              "    <tr style=\"text-align: right;\">\n",
              "      <th></th>\n",
              "      <th>language</th>\n",
              "      <th>text</th>\n",
              "      <th>time</th>\n",
              "      <th>id</th>\n",
              "      <th>originalId</th>\n",
              "      <th>details</th>\n",
              "    </tr>\n",
              "  </thead>\n",
              "  <tbody>\n",
              "    <tr>\n",
              "      <th>0</th>\n",
              "      <td>en</td>\n",
              "      <td>Awesome food</td>\n",
              "      <td>2011-05-06</td>\n",
              "      <td>35306</td>\n",
              "      <td>4ac518bef964a52005a320e3</td>\n",
              "      <td>http://tour-pedia.org/api/getPlaceDetails?id=3...</td>\n",
              "    </tr>\n",
              "    <tr>\n",
              "      <th>1</th>\n",
              "      <td>en</td>\n",
              "      <td>Awesome food</td>\n",
              "      <td>2011-05-06</td>\n",
              "      <td>35306</td>\n",
              "      <td>4ac518bef964a52005a320e3</td>\n",
              "      <td>http://tour-pedia.org/api/getPlaceDetails?id=3...</td>\n",
              "    </tr>\n",
              "    <tr>\n",
              "      <th>2</th>\n",
              "      <td>en</td>\n",
              "      <td>Why is this marked as a medical center? Haha i...</td>\n",
              "      <td>2011-12-29</td>\n",
              "      <td>35306</td>\n",
              "      <td>4ac518bef964a52005a320e3</td>\n",
              "      <td>http://tour-pedia.org/api/getPlaceDetails?id=3...</td>\n",
              "    </tr>\n",
              "    <tr>\n",
              "      <th>3</th>\n",
              "      <td>ca</td>\n",
              "      <td>Its a pub / restaurant</td>\n",
              "      <td>2012-08-03</td>\n",
              "      <td>35306</td>\n",
              "      <td>4ac518bef964a52005a320e3</td>\n",
              "      <td>http://tour-pedia.org/api/getPlaceDetails?id=3...</td>\n",
              "    </tr>\n",
              "    <tr>\n",
              "      <th>4</th>\n",
              "      <td>en</td>\n",
              "      <td>Sadly they got the order badly wrong. They mad...</td>\n",
              "      <td>2013-09-24</td>\n",
              "      <td>35306</td>\n",
              "      <td>4ac518bef964a52005a320e3</td>\n",
              "      <td>http://tour-pedia.org/api/getPlaceDetails?id=3...</td>\n",
              "    </tr>\n",
              "  </tbody>\n",
              "</table>\n",
              "</div>"
            ],
            "text/plain": [
              "  language  ...                                            details\n",
              "0       en  ...  http://tour-pedia.org/api/getPlaceDetails?id=3...\n",
              "1       en  ...  http://tour-pedia.org/api/getPlaceDetails?id=3...\n",
              "2       en  ...  http://tour-pedia.org/api/getPlaceDetails?id=3...\n",
              "3       ca  ...  http://tour-pedia.org/api/getPlaceDetails?id=3...\n",
              "4       en  ...  http://tour-pedia.org/api/getPlaceDetails?id=3...\n",
              "\n",
              "[5 rows x 6 columns]"
            ]
          },
          "metadata": {
            "tags": []
          },
          "execution_count": 164
        }
      ]
    },
    {
      "cell_type": "code",
      "metadata": {
        "id": "UZqlNmtTfWkT",
        "colab_type": "code",
        "colab": {
          "base_uri": "https://localhost:8080/",
          "height": 210
        },
        "outputId": "03debb02-227d-453f-cbe5-d843ccf7728e"
      },
      "source": [
        "reviews_df.info()"
      ],
      "execution_count": 165,
      "outputs": [
        {
          "output_type": "stream",
          "text": [
            "<class 'pandas.core.frame.DataFrame'>\n",
            "RangeIndex: 10934 entries, 0 to 10933\n",
            "Data columns (total 6 columns):\n",
            "language      10934 non-null object\n",
            "text          10934 non-null object\n",
            "time          10934 non-null object\n",
            "id            10934 non-null int64\n",
            "originalId    10934 non-null object\n",
            "details       10934 non-null object\n",
            "dtypes: int64(1), object(5)\n",
            "memory usage: 512.6+ KB\n"
          ],
          "name": "stdout"
        }
      ]
    },
    {
      "cell_type": "code",
      "metadata": {
        "id": "MbYf-ZERfcXk",
        "colab_type": "code",
        "colab": {
          "base_uri": "https://localhost:8080/",
          "height": 34
        },
        "outputId": "c5762b28-fae3-4b37-8e00-b98b5f00e1b5"
      },
      "source": [
        "reviews_df.keys()"
      ],
      "execution_count": 166,
      "outputs": [
        {
          "output_type": "execute_result",
          "data": {
            "text/plain": [
              "Index(['language', 'text', 'time', 'id', 'originalId', 'details'], dtype='object')"
            ]
          },
          "metadata": {
            "tags": []
          },
          "execution_count": 166
        }
      ]
    },
    {
      "cell_type": "markdown",
      "metadata": {
        "id": "00pZ7fC9hGPE",
        "colab_type": "text"
      },
      "source": [
        "## Remove all non-English review rows (keep only rows where language=en)"
      ]
    },
    {
      "cell_type": "code",
      "metadata": {
        "id": "kAOcEAiTf2rK",
        "colab_type": "code",
        "colab": {
          "base_uri": "https://localhost:8080/",
          "height": 105
        },
        "outputId": "cf696ea1-37e6-4c94-8964-b3fbb764c1d3"
      },
      "source": [
        "reviews_df['language'].unique()"
      ],
      "execution_count": 167,
      "outputs": [
        {
          "output_type": "execute_result",
          "data": {
            "text/plain": [
              "array(['en', 'ca', 'nl', 'es', 'ja', 'it', 'pt', 'ru', 'af', 'ar', 'ro',\n",
              "       'fr', 'no', 'ko', 'da', 'lt', 'lv', 'de', 'tr', 'pl', 'vi', 'hr',\n",
              "       'et', 'eu', 'id', 'so', 'fa', 'False', 'tl', 'bg', 'sv', 'sq',\n",
              "       'sw', 'cs', 'fi', 'sl', 'hu', 'th', 'zh-cn', 'sk', 'el'],\n",
              "      dtype=object)"
            ]
          },
          "metadata": {
            "tags": []
          },
          "execution_count": 167
        }
      ]
    },
    {
      "cell_type": "code",
      "metadata": {
        "id": "LgFLHAmJgo0L",
        "colab_type": "code",
        "colab": {
          "base_uri": "https://localhost:8080/",
          "height": 34
        },
        "outputId": "761e4d44-7b3f-411c-b614-06366e7b5137"
      },
      "source": [
        "reviews_df.shape"
      ],
      "execution_count": 168,
      "outputs": [
        {
          "output_type": "execute_result",
          "data": {
            "text/plain": [
              "(10934, 6)"
            ]
          },
          "metadata": {
            "tags": []
          },
          "execution_count": 168
        }
      ]
    },
    {
      "cell_type": "code",
      "metadata": {
        "id": "_vUzKcyOg34f",
        "colab_type": "code",
        "colab": {
          "base_uri": "https://localhost:8080/",
          "height": 34
        },
        "outputId": "7ddb6c9c-3960-4b6c-d842-086ef2419859"
      },
      "source": [
        "reviews_df = reviews_df[reviews_df['language'] == 'en']\n",
        "reviews_df.shape"
      ],
      "execution_count": 169,
      "outputs": [
        {
          "output_type": "execute_result",
          "data": {
            "text/plain": [
              "(10127, 6)"
            ]
          },
          "metadata": {
            "tags": []
          },
          "execution_count": 169
        }
      ]
    },
    {
      "cell_type": "code",
      "metadata": {
        "id": "-586DCoEhAeh",
        "colab_type": "code",
        "colab": {
          "base_uri": "https://localhost:8080/",
          "height": 34
        },
        "outputId": "14002d14-d071-46b9-d2ca-409ced2f52e8"
      },
      "source": [
        "reviews_df['language'].unique()"
      ],
      "execution_count": 170,
      "outputs": [
        {
          "output_type": "execute_result",
          "data": {
            "text/plain": [
              "array(['en'], dtype=object)"
            ]
          },
          "metadata": {
            "tags": []
          },
          "execution_count": 170
        }
      ]
    },
    {
      "cell_type": "markdown",
      "metadata": {
        "id": "UeSaawBYh22-",
        "colab_type": "text"
      },
      "source": [
        "## Convert text to lowercase"
      ]
    },
    {
      "cell_type": "code",
      "metadata": {
        "id": "dNTIq8NKmYU8",
        "colab_type": "code",
        "colab": {
          "base_uri": "https://localhost:8080/",
          "height": 34
        },
        "outputId": "390337c7-a5f0-4903-f32b-b89463149bfa"
      },
      "source": [
        "sent = 'I wish I could fly free high in the sky'\n",
        "sent = sent.lower()\n",
        "sent"
      ],
      "execution_count": 171,
      "outputs": [
        {
          "output_type": "execute_result",
          "data": {
            "text/plain": [
              "'i wish i could fly free high in the sky'"
            ]
          },
          "metadata": {
            "tags": []
          },
          "execution_count": 171
        }
      ]
    },
    {
      "cell_type": "code",
      "metadata": {
        "id": "8PvqUhxgh_HB",
        "colab_type": "code",
        "colab": {}
      },
      "source": [
        "reviews_df['clean_reviews'] = reviews_df['text'].apply(lambda text: text.lower())"
      ],
      "execution_count": 0,
      "outputs": []
    },
    {
      "cell_type": "code",
      "metadata": {
        "id": "aeQARjhxisyP",
        "colab_type": "code",
        "colab": {
          "base_uri": "https://localhost:8080/",
          "height": 122
        },
        "outputId": "5f036c51-5cdd-4a0d-9f60-96d49491a700"
      },
      "source": [
        "reviews_df['clean_reviews'].head()"
      ],
      "execution_count": 173,
      "outputs": [
        {
          "output_type": "execute_result",
          "data": {
            "text/plain": [
              "0                                         awesome food\n",
              "1                                         awesome food\n",
              "2    why is this marked as a medical center? haha i...\n",
              "4    sadly they got the order badly wrong. they mad...\n",
              "5    did u know the author of the windows in the wi...\n",
              "Name: clean_reviews, dtype: object"
            ]
          },
          "metadata": {
            "tags": []
          },
          "execution_count": 173
        }
      ]
    },
    {
      "cell_type": "markdown",
      "metadata": {
        "id": "GC0ynOKXtVNk",
        "colab_type": "text"
      },
      "source": [
        "## Remove numbers from sentence"
      ]
    },
    {
      "cell_type": "code",
      "metadata": {
        "id": "gSd55TyftXCg",
        "colab_type": "code",
        "colab": {
          "base_uri": "https://localhost:8080/",
          "height": 34
        },
        "outputId": "0c88b088-cfdb-4a1e-ad22-04975d77da10"
      },
      "source": [
        "text = \"There was 200 people standing right next to me at 2pm.\"\n",
        "''.join(c for c in text if not c.isdigit())"
      ],
      "execution_count": 174,
      "outputs": [
        {
          "output_type": "execute_result",
          "data": {
            "text/plain": [
              "'There was  people standing right next to me at pm.'"
            ]
          },
          "metadata": {
            "tags": []
          },
          "execution_count": 174
        }
      ]
    },
    {
      "cell_type": "markdown",
      "metadata": {
        "id": "Dbu9lbZLi79_",
        "colab_type": "text"
      },
      "source": [
        "## Tokenization (Convert sentences into word tokens)"
      ]
    },
    {
      "cell_type": "code",
      "metadata": {
        "id": "4HkoIjbVjWoV",
        "colab_type": "code",
        "colab": {
          "base_uri": "https://localhost:8080/",
          "height": 34
        },
        "outputId": "9b4abef7-923d-4ba0-983e-5370d1b6743f"
      },
      "source": [
        "sent = word_tokenize(sent)\n",
        "sent"
      ],
      "execution_count": 175,
      "outputs": [
        {
          "output_type": "execute_result",
          "data": {
            "text/plain": [
              "['i', 'wish', 'i', 'could', 'fly', 'free', 'high', 'in', 'the', 'sky']"
            ]
          },
          "metadata": {
            "tags": []
          },
          "execution_count": 175
        }
      ]
    },
    {
      "cell_type": "code",
      "metadata": {
        "id": "Z0wzwf9DrjT8",
        "colab_type": "code",
        "colab": {
          "base_uri": "https://localhost:8080/",
          "height": 34
        },
        "outputId": "bf1463f2-43ba-403a-cbb6-77ec57fe1057"
      },
      "source": [
        "tokenizer = RegexpTokenizer(r'\\w+')\n",
        "tokenizer.tokenize('Eighty-seven miles to go, yet.$$  12937Onward!')"
      ],
      "execution_count": 176,
      "outputs": [
        {
          "output_type": "execute_result",
          "data": {
            "text/plain": [
              "['Eighty', 'seven', 'miles', 'to', 'go', 'yet', '12937Onward']"
            ]
          },
          "metadata": {
            "tags": []
          },
          "execution_count": 176
        }
      ]
    },
    {
      "cell_type": "code",
      "metadata": {
        "id": "WUZTDyU6u1Yh",
        "colab_type": "code",
        "colab": {
          "base_uri": "https://localhost:8080/",
          "height": 34
        },
        "outputId": "be291e3d-ca57-4652-a98a-1508d3b6f59a"
      },
      "source": [
        "tokenizer = RegexpTokenizer(r'[A-Za-z]+')\n",
        "tokenizer.tokenize('Eighty-seven miles to go, yet.$$  %%) ~`12937Onward!')\n"
      ],
      "execution_count": 177,
      "outputs": [
        {
          "output_type": "execute_result",
          "data": {
            "text/plain": [
              "['Eighty', 'seven', 'miles', 'to', 'go', 'yet', 'Onward']"
            ]
          },
          "metadata": {
            "tags": []
          },
          "execution_count": 177
        }
      ]
    },
    {
      "cell_type": "code",
      "metadata": {
        "id": "m_dFAo2Xk2OP",
        "colab_type": "code",
        "colab": {}
      },
      "source": [
        "# Remove punctuation, special characters, numbers. Keep only alphabets. Convert sentence into tokens\n",
        "tokenizer = RegexpTokenizer(r'[A-Za-z]+')\n",
        "reviews_df['clean_reviews'] = reviews_df['clean_reviews'].apply(lambda sent: tokenizer.tokenize(sent))"
      ],
      "execution_count": 0,
      "outputs": []
    },
    {
      "cell_type": "code",
      "metadata": {
        "id": "EM9vkuFUlMPv",
        "colab_type": "code",
        "colab": {
          "base_uri": "https://localhost:8080/",
          "height": 122
        },
        "outputId": "bbcf460f-8a27-4744-f809-c6abd6098938"
      },
      "source": [
        "reviews_df['clean_reviews'].head()"
      ],
      "execution_count": 179,
      "outputs": [
        {
          "output_type": "execute_result",
          "data": {
            "text/plain": [
              "0                                      [awesome, food]\n",
              "1                                      [awesome, food]\n",
              "2    [why, is, this, marked, as, a, medical, center...\n",
              "4    [sadly, they, got, the, order, badly, wrong, t...\n",
              "5    [did, u, know, the, author, of, the, windows, ...\n",
              "Name: clean_reviews, dtype: object"
            ]
          },
          "metadata": {
            "tags": []
          },
          "execution_count": 179
        }
      ]
    },
    {
      "cell_type": "markdown",
      "metadata": {
        "id": "HW7IZrKSlRie",
        "colab_type": "text"
      },
      "source": [
        "## Remove Stopwords"
      ]
    },
    {
      "cell_type": "code",
      "metadata": {
        "id": "cVSObcDSlwcb",
        "colab_type": "code",
        "colab": {
          "base_uri": "https://localhost:8080/",
          "height": 34
        },
        "outputId": "98dc195d-0976-47d1-8094-95a11529384b"
      },
      "source": [
        "# Load stop words\n",
        "stop_words = stopwords.words('english')\n",
        "stop_words.append('u')\n",
        "stop_words[:10]"
      ],
      "execution_count": 180,
      "outputs": [
        {
          "output_type": "execute_result",
          "data": {
            "text/plain": [
              "['i', 'me', 'my', 'myself', 'we', 'our', 'ours', 'ourselves', 'you', \"you're\"]"
            ]
          },
          "metadata": {
            "tags": []
          },
          "execution_count": 180
        }
      ]
    },
    {
      "cell_type": "code",
      "metadata": {
        "id": "wsYHSYSRmB0Z",
        "colab_type": "code",
        "colab": {
          "base_uri": "https://localhost:8080/",
          "height": 34
        },
        "outputId": "840b8349-0873-43f3-dd69-f701d729d0cc"
      },
      "source": [
        "sent = [word for word in sent if word not in stop_words]\n",
        "sent"
      ],
      "execution_count": 181,
      "outputs": [
        {
          "output_type": "execute_result",
          "data": {
            "text/plain": [
              "['wish', 'could', 'fly', 'free', 'high', 'sky']"
            ]
          },
          "metadata": {
            "tags": []
          },
          "execution_count": 181
        }
      ]
    },
    {
      "cell_type": "code",
      "metadata": {
        "id": "KJmroHX_oHhn",
        "colab_type": "code",
        "colab": {}
      },
      "source": [
        "reviews_df['clean_reviews'] = reviews_df['clean_reviews'].apply(lambda sent: [word for word in sent if word not in stop_words])"
      ],
      "execution_count": 0,
      "outputs": []
    },
    {
      "cell_type": "code",
      "metadata": {
        "id": "SrXAlCd3oNxi",
        "colab_type": "code",
        "colab": {
          "base_uri": "https://localhost:8080/",
          "height": 122
        },
        "outputId": "bbc02fe1-c1e4-4e0e-937b-bcec4e81e1ff"
      },
      "source": [
        "reviews_df['clean_reviews'].head()"
      ],
      "execution_count": 183,
      "outputs": [
        {
          "output_type": "execute_result",
          "data": {
            "text/plain": [
              "0                                      [awesome, food]\n",
              "1                                      [awesome, food]\n",
              "2          [marked, medical, center, haha, restaurant]\n",
              "4    [sadly, got, order, badly, wrong, made, offeri...\n",
              "5    [know, author, windows, willows, secretary, ba...\n",
              "Name: clean_reviews, dtype: object"
            ]
          },
          "metadata": {
            "tags": []
          },
          "execution_count": 183
        }
      ]
    },
    {
      "cell_type": "markdown",
      "metadata": {
        "id": "TRGwxmLjq5NH",
        "colab_type": "text"
      },
      "source": [
        "## Lemmatization (Let's not use it for this project!)"
      ]
    },
    {
      "cell_type": "code",
      "metadata": {
        "colab_type": "code",
        "outputId": "63f29660-2f96-43db-9b54-9d67da5c26a4",
        "id": "Ar7e902iyy19",
        "colab": {
          "base_uri": "https://localhost:8080/",
          "height": 34
        }
      },
      "source": [
        "# Init the Wordnet Lemmatizer\n",
        "lemmatizer = WordNetLemmatizer()\n",
        "# Lemmatize Single Word\n",
        "lemmatizer.lemmatize(\"stripes\")"
      ],
      "execution_count": 0,
      "outputs": [
        {
          "output_type": "execute_result",
          "data": {
            "text/plain": [
              "'stripe'"
            ]
          },
          "metadata": {
            "tags": []
          },
          "execution_count": 194
        }
      ]
    },
    {
      "cell_type": "markdown",
      "metadata": {
        "id": "bpZNX__xy5z9",
        "colab_type": "text"
      },
      "source": [
        "https://www.machinelearningplus.com/nlp/lemmatization-examples-python/"
      ]
    }
  ]
}