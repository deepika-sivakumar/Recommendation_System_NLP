{
  "nbformat": 4,
  "nbformat_minor": 0,
  "metadata": {
    "colab": {
      "name": "construct_datasets.ipynb",
      "version": "0.3.2",
      "provenance": [],
      "collapsed_sections": []
    },
    "kernelspec": {
      "name": "python3",
      "display_name": "Python 3"
    }
  },
  "cells": [
    {
      "cell_type": "markdown",
      "metadata": {
        "id": "KbFTCLc5A0n3",
        "colab_type": "text"
      },
      "source": [
        "# Construct Dataset from API request - Tourpedia Dataset"
      ]
    },
    {
      "cell_type": "code",
      "metadata": {
        "id": "DvJDwf_zb11L",
        "colab_type": "code",
        "colab": {}
      },
      "source": [
        "import pandas as pd\n",
        "import numpy as np\n",
        "import requests\n",
        "import json"
      ],
      "execution_count": 0,
      "outputs": []
    },
    {
      "cell_type": "code",
      "metadata": {
        "id": "eAm6gpm0bpqe",
        "colab_type": "code",
        "colab": {}
      },
      "source": [
        "class CONSTRUCT_DATASETS(object):\n",
        "  \n",
        "  #Constructor \n",
        "  def __init__(self, city):\n",
        "    self.city = city\n",
        "    self.places_url = 'http://tour-pedia.org/api/getPlaces?location={}&category=poi'.format(city)\n",
        "    self.places_filename = 'tourpedia_{}_poi.csv'.format(city)\n",
        "    self.reviews_filename = 'tourpedia_{}_reviews.csv'.format(city)\n",
        "    self.places_df = pd.DataFrame()\n",
        "    self.reviews_df = pd.DataFrame()\n",
        "  \n",
        "  \"\"\"\n",
        "    Function to execute an API request and return the response as a dataframe\n",
        "    url - API request URL\n",
        "    success - API request status\n",
        "    df - the JSON response as a pandas dataframe\n",
        "  \"\"\"\n",
        "  def get_api_response(self, url):\n",
        "    # Get the API response\n",
        "    response = requests.get(url)\n",
        "    # Check if the API request was successful\n",
        "    if(response.status_code != 200):\n",
        "      success = False\n",
        "      df = pd.DataFrame()\n",
        "    else:\n",
        "      success = True\n",
        "      data = response.text\n",
        "      # Load the response as json data\n",
        "      json_data = json.loads(data)\n",
        "      # Convert the json list to a pandas dataframe\n",
        "      df = pd.DataFrame(json_data)\n",
        "    return success, df\n",
        "  \n",
        "  \"\"\"\n",
        "    Function to construct list of places dataset for the city\n",
        "  \"\"\"\n",
        "  def construct_places_dataset(self):\n",
        "    success, self.places_df = get_api_response(self.places_url)\n",
        "    if(success == False or self.places_df.empty == True):\n",
        "      print('No Dataset for {} exists!'.format(self.place))\n",
        "    else:\n",
        "      # Let us clean the dataset\n",
        "      # We want to select only relevant columns: id, name, originalId, details, reviews\n",
        "      self.places_df = self.places_df[['id','originalId', 'name', 'details', 'reviews']]\n",
        "      # Few rows have misaligned values\n",
        "      # We want to select the rows that only have unique numeric value for the place id\n",
        "      self.places_df = self.places_df[self.places_df['id'].astype(str).str.isdigit()]\n",
        "      # Drop the rows that contain null/nan values\n",
        "      self.places_df = self.places_df.dropna()\n",
        "      # Save the Places dataframe to csv file\n",
        "      self.places_df.to_csv(self.places_filename, index = None, header=True)\n",
        "  \n",
        "  \"\"\"\n",
        "    Function to construct reviews dataset for all the places of the city\n",
        "  \"\"\"\n",
        "  def construct_reviews_dataset(self):\n",
        "    # Iterate through each row and get the reviews of that place\n",
        "    for i in self.places_df.index:\n",
        "      success, temp_reviews_df = self.get_api_response(self.places_df.get_value(i,'reviews'))\n",
        "      # Only if API call is success & not empty construct reviews dataframe for that place\n",
        "      if(success == True and temp_reviews_df.empty == False):\n",
        "        temp_reviews_df = temp_reviews_df[['language', 'text', 'time']]\n",
        "        temp_reviews_df['id'] = self.places_df.get_value(i,'id')\n",
        "        temp_reviews_df['originalId'] = self.places_df.get_value(i,'originalId')\n",
        "        temp_reviews_df['details'] = self.places_df.get_value(i,'details')\n",
        "        # Construct a reviews dataframe of all the places\n",
        "        self.reviews_df = pd.concat([self.reviews_df,temp_reviews_df])\n",
        "    # Check if reviews dataframe is empty\n",
        "    if(self.reviews_df.empty == True):\n",
        "      print('No Reviews dataset for {}!'.format(self.place))\n",
        "    else:\n",
        "      # Save the Reviews dataframe to reviews_london_poi.csv file\n",
        "      self.reviews_df.to_csv(self.reviews_filename, index = None, header=True)"
      ],
      "execution_count": 0,
      "outputs": []
    },
    {
      "cell_type": "markdown",
      "metadata": {
        "id": "gT_HgTrTDyaJ",
        "colab_type": "text"
      },
      "source": [
        "## Construct places dataset for London as ''tourpedia_London_poi.csv\" using the class CONSTRUCT_DATASETS"
      ]
    },
    {
      "cell_type": "code",
      "metadata": {
        "id": "4p6hrRtwb4sc",
        "colab_type": "code",
        "colab": {}
      },
      "source": [
        "construct_datasets = CONSTRUCT_DATASETS('London')\n",
        "construct_datasets.construct_places_dataset()"
      ],
      "execution_count": 0,
      "outputs": []
    },
    {
      "cell_type": "markdown",
      "metadata": {
        "id": "mfqyBI6BELfm",
        "colab_type": "text"
      },
      "source": [
        "### Open and explore \"tourpedia_London_poi.csv\" dataset"
      ]
    },
    {
      "cell_type": "code",
      "metadata": {
        "id": "5zy5SPxLi4V-",
        "colab_type": "code",
        "colab": {
          "base_uri": "https://localhost:8080/",
          "height": 34
        },
        "outputId": "98afd25e-1363-4d0b-c168-fab00b9a179d"
      },
      "source": [
        "df = pd.read_csv('tourpedia_London.csv') \n",
        "df.keys()\n",
        "df.head()\n",
        "df.shape"
      ],
      "execution_count": 79,
      "outputs": [
        {
          "output_type": "execute_result",
          "data": {
            "text/plain": [
              "(2547, 5)"
            ]
          },
          "metadata": {
            "tags": []
          },
          "execution_count": 79
        }
      ]
    },
    {
      "cell_type": "code",
      "metadata": {
        "id": "ark4Ilnn1PEr",
        "colab_type": "code",
        "colab": {
          "base_uri": "https://localhost:8080/",
          "height": 34
        },
        "outputId": "90c7f470-2cd5-4090-c823-6f826e4d9cc7"
      },
      "source": [
        "construct_datasets.places_df.shape"
      ],
      "execution_count": 80,
      "outputs": [
        {
          "output_type": "execute_result",
          "data": {
            "text/plain": [
              "(2547, 5)"
            ]
          },
          "metadata": {
            "tags": []
          },
          "execution_count": 80
        }
      ]
    },
    {
      "cell_type": "markdown",
      "metadata": {
        "id": "eZ_aL7Q1G_ff",
        "colab_type": "text"
      },
      "source": [
        "#### Check if the places data is clean!"
      ]
    },
    {
      "cell_type": "code",
      "metadata": {
        "id": "YyJ9kZknG1dQ",
        "colab_type": "code",
        "colab": {
          "base_uri": "https://localhost:8080/",
          "height": 70
        },
        "outputId": "d180307f-4d26-4470-d3b3-0b2a3400b794"
      },
      "source": [
        "print('Are there any null values in my dataset now?', df.isnull().values.any())\n",
        "print('Does id column contain only unique values?', df['id'].is_unique)\n",
        "print('Does originalId column contain only unique values?', df['originalId'].is_unique)"
      ],
      "execution_count": 86,
      "outputs": [
        {
          "output_type": "stream",
          "text": [
            "Are there any null values in my dataset now? False\n",
            "Does id column contain only unique values? True\n",
            "Does originalId column contain only unique values? True\n"
          ],
          "name": "stdout"
        }
      ]
    },
    {
      "cell_type": "markdown",
      "metadata": {
        "id": "u8gv5M3NGZzM",
        "colab_type": "text"
      },
      "source": [
        "## Construct reviews dataset for London as \"tourpedia_London_reviews.csv\""
      ]
    },
    {
      "cell_type": "code",
      "metadata": {
        "id": "tFb2xQRrwyW-",
        "colab_type": "code",
        "colab": {
          "base_uri": "https://localhost:8080/",
          "height": 107
        },
        "outputId": "8549f9fa-f888-4689-e267-05afc6a7e9a9"
      },
      "source": [
        "construct_datasets.construct_reviews_dataset()"
      ],
      "execution_count": 81,
      "outputs": [
        {
          "output_type": "stream",
          "text": [
            "/usr/local/lib/python3.6/dist-packages/ipykernel_launcher.py:59: FutureWarning: get_value is deprecated and will be removed in a future release. Please use .at[] or .iat[] accessors instead\n",
            "/usr/local/lib/python3.6/dist-packages/ipykernel_launcher.py:63: FutureWarning: get_value is deprecated and will be removed in a future release. Please use .at[] or .iat[] accessors instead\n",
            "/usr/local/lib/python3.6/dist-packages/ipykernel_launcher.py:64: FutureWarning: get_value is deprecated and will be removed in a future release. Please use .at[] or .iat[] accessors instead\n",
            "/usr/local/lib/python3.6/dist-packages/ipykernel_launcher.py:65: FutureWarning: get_value is deprecated and will be removed in a future release. Please use .at[] or .iat[] accessors instead\n"
          ],
          "name": "stderr"
        }
      ]
    },
    {
      "cell_type": "markdown",
      "metadata": {
        "id": "1b-FpcMCGiis",
        "colab_type": "text"
      },
      "source": [
        "### Let us explore the reviews dataset"
      ]
    },
    {
      "cell_type": "code",
      "metadata": {
        "id": "PhyorBNP5Akg",
        "colab_type": "code",
        "colab": {
          "base_uri": "https://localhost:8080/",
          "height": 34
        },
        "outputId": "c40b649c-d547-4505-fc37-fa098874ae86"
      },
      "source": [
        "df_rev = pd.read_csv('tourpedia_London_reviews.csv')\n",
        "df_rev.keys()"
      ],
      "execution_count": 83,
      "outputs": [
        {
          "output_type": "execute_result",
          "data": {
            "text/plain": [
              "Index(['language', 'text', 'time', 'id', 'originalId', 'details'], dtype='object')"
            ]
          },
          "metadata": {
            "tags": []
          },
          "execution_count": 83
        }
      ]
    },
    {
      "cell_type": "code",
      "metadata": {
        "id": "hiRLuhBBGpQ_",
        "colab_type": "code",
        "colab": {
          "base_uri": "https://localhost:8080/",
          "height": 34
        },
        "outputId": "9ab96640-8470-4c3a-8ce5-cca6f8573ca8"
      },
      "source": [
        "df_rev.shape"
      ],
      "execution_count": 84,
      "outputs": [
        {
          "output_type": "execute_result",
          "data": {
            "text/plain": [
              "(10934, 6)"
            ]
          },
          "metadata": {
            "tags": []
          },
          "execution_count": 84
        }
      ]
    },
    {
      "cell_type": "code",
      "metadata": {
        "id": "DdV3glaq5Nqv",
        "colab_type": "code",
        "colab": {
          "base_uri": "https://localhost:8080/",
          "height": 105
        },
        "outputId": "f8751d7a-8b12-4ef1-d199-19a2edf6d3d7"
      },
      "source": [
        "# Get all the available language codes for the reviews\n",
        "df_rev['language'].unique()"
      ],
      "execution_count": 75,
      "outputs": [
        {
          "output_type": "execute_result",
          "data": {
            "text/plain": [
              "array(['en', 'ca', 'nl', 'es', 'ja', 'it', 'pt', 'ru', 'af', 'ar', 'ro',\n",
              "       'fr', 'no', 'ko', 'da', 'lt', 'lv', 'de', 'tr', 'pl', 'vi', 'hr',\n",
              "       'et', 'eu', 'id', 'so', 'fa', 'False', 'tl', 'bg', 'sv', 'sq',\n",
              "       'sw', 'cs', 'fi', 'sl', 'hu', 'th', 'zh-cn', 'sk', 'el'],\n",
              "      dtype=object)"
            ]
          },
          "metadata": {
            "tags": []
          },
          "execution_count": 75
        }
      ]
    },
    {
      "cell_type": "code",
      "metadata": {
        "id": "sychaWfV5pLx",
        "colab_type": "code",
        "colab": {
          "base_uri": "https://localhost:8080/",
          "height": 34
        },
        "outputId": "70e1333a-4375-4190-ca2f-ac400d0ba24e"
      },
      "source": [
        "df_rev[df_rev['language'] == 'ja'].shape"
      ],
      "execution_count": 94,
      "outputs": [
        {
          "output_type": "execute_result",
          "data": {
            "text/plain": [
              "(11, 6)"
            ]
          },
          "metadata": {
            "tags": []
          },
          "execution_count": 94
        }
      ]
    },
    {
      "cell_type": "code",
      "metadata": {
        "id": "TNhoDfaCPGe0",
        "colab_type": "code",
        "colab": {
          "base_uri": "https://localhost:8080/",
          "height": 34
        },
        "outputId": "acff98c2-530b-4691-87f7-f0a05dd5f800"
      },
      "source": [
        "df_rev[df_rev['language'] == 'en'].shape"
      ],
      "execution_count": 95,
      "outputs": [
        {
          "output_type": "execute_result",
          "data": {
            "text/plain": [
              "(10127, 6)"
            ]
          },
          "metadata": {
            "tags": []
          },
          "execution_count": 95
        }
      ]
    },
    {
      "cell_type": "code",
      "metadata": {
        "id": "4y-VEjN7PNi5",
        "colab_type": "code",
        "colab": {
          "base_uri": "https://localhost:8080/",
          "height": 122
        },
        "outputId": "3d9077fe-740e-4b62-bcd6-64f0ee831a66"
      },
      "source": [
        "df_sk = df_rev[df_rev['language'] == 'ca'].head()\n",
        "df_sk['text']"
      ],
      "execution_count": 99,
      "outputs": [
        {
          "output_type": "execute_result",
          "data": {
            "text/plain": [
              "3               Its a pub / restaurant\n",
              "467                     Urgh... Excel.\n",
              "707                          EUSTON!!!\n",
              "2364    AVOID TERMINAL 4 at all costs.\n",
              "2855                       Great café!\n",
              "Name: text, dtype: object"
            ]
          },
          "metadata": {
            "tags": []
          },
          "execution_count": 99
        }
      ]
    },
    {
      "cell_type": "code",
      "metadata": {
        "id": "lRxB9R5zOyrE",
        "colab_type": "code",
        "colab": {
          "base_uri": "https://localhost:8080/",
          "height": 70
        },
        "outputId": "03315555-82c0-4428-9342-d1e16a658b54"
      },
      "source": [
        "import nltk\n",
        "nltk.download('wordnet')"
      ],
      "execution_count": 91,
      "outputs": [
        {
          "output_type": "stream",
          "text": [
            "[nltk_data] Downloading package wordnet to /root/nltk_data...\n",
            "[nltk_data]   Unzipping corpora/wordnet.zip.\n"
          ],
          "name": "stdout"
        },
        {
          "output_type": "execute_result",
          "data": {
            "text/plain": [
              "True"
            ]
          },
          "metadata": {
            "tags": []
          },
          "execution_count": 91
        }
      ]
    },
    {
      "cell_type": "code",
      "metadata": {
        "id": "BDt9bsqlLz6W",
        "colab_type": "code",
        "colab": {
          "base_uri": "https://localhost:8080/",
          "height": 34
        },
        "outputId": "182c378a-bc7a-4b3c-f078-4daa6ba11e22"
      },
      "source": [
        "from nltk.corpus import wordnet \n",
        "if not wordnet.synsets('Hi hello deepi!'):\n",
        "  print('not english')\n",
        "else:\n",
        "  print('english')"
      ],
      "execution_count": 93,
      "outputs": [
        {
          "output_type": "stream",
          "text": [
            "not english\n"
          ],
          "name": "stdout"
        }
      ]
    }
  ]
}